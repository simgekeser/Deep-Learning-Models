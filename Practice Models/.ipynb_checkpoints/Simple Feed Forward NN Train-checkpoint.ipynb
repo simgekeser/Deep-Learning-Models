{
 "cells": [
  {
   "cell_type": "code",
   "execution_count": 168,
   "metadata": {
    "scrolled": true
   },
   "outputs": [],
   "source": [
    "import tensorflow as tf\n",
    "import pandas as pd\n",
    "import numpy as np\n",
    "\n",
    "from keras.models import Sequential\n",
    "from keras.layers import Dense, Activation\n",
    "import keras.backend as K\n",
    "\n",
    "\n",
    "data = pd.read_csv(\"Blocks/BlockData1.txt\")\n",
    "x_train = data.iloc[:,0:1].values\n",
    "y_train = data.iloc[:,1:2].values\n",
    "\n",
    "\n",
    "\n",
    "rand = np.random.random((1000,1))\n",
    "layers = np.random.randint(2,size=(1000,1))\n"
   ]
  },
  {
   "cell_type": "code",
   "execution_count": 169,
   "metadata": {},
   "outputs": [],
   "source": [
    "model = Sequential()\n",
    "model.add(Dense(1, activation = 'relu', input_dim=1))\n",
    "model.add(Dense(1, activation = 'sigmoid'))"
   ]
  },
  {
   "cell_type": "code",
   "execution_count": 170,
   "metadata": {},
   "outputs": [
    {
     "name": "stdout",
     "output_type": "stream",
     "text": [
      "_________________________________________________________________\n",
      "Layer (type)                 Output Shape              Param #   \n",
      "=================================================================\n",
      "dense_46 (Dense)             (None, 1)                 2         \n",
      "_________________________________________________________________\n",
      "dense_47 (Dense)             (None, 1)                 2         \n",
      "=================================================================\n",
      "Total params: 4\n",
      "Trainable params: 4\n",
      "Non-trainable params: 0\n",
      "_________________________________________________________________\n"
     ]
    }
   ],
   "source": [
    "def mean_pred(t, p):\n",
    "    return K.mean(p)\n",
    "\n",
    "model.compile(optimizer='rmsprop',\n",
    "              loss='binary_crossentropy',\n",
    "              metrics=[ mean_pred])\n",
    "model.summary()"
   ]
  },
  {
   "cell_type": "code",
   "execution_count": 171,
   "metadata": {},
   "outputs": [
    {
     "name": "stdout",
     "output_type": "stream",
     "text": [
      "Train on 48 samples, validate on 12 samples\n",
      "Epoch 1/10\n",
      "48/48 [==============================] - 1s 19ms/step - loss: 0.7046 - mean_pred: 0.5163 - val_loss: 0.7034 - val_mean_pred: 0.5143\n",
      "Epoch 2/10\n",
      "48/48 [==============================] - 0s 124us/step - loss: 0.7031 - mean_pred: 0.5142 - val_loss: 0.7023 - val_mean_pred: 0.5128\n",
      "Epoch 3/10\n",
      "48/48 [==============================] - 0s 145us/step - loss: 0.7020 - mean_pred: 0.5128 - val_loss: 0.7014 - val_mean_pred: 0.5116\n",
      "Epoch 4/10\n",
      "48/48 [==============================] - 0s 146us/step - loss: 0.7012 - mean_pred: 0.5116 - val_loss: 0.7006 - val_mean_pred: 0.5105\n",
      "Epoch 5/10\n",
      "48/48 [==============================] - 0s 166us/step - loss: 0.7004 - mean_pred: 0.5105 - val_loss: 0.6999 - val_mean_pred: 0.5095\n",
      "Epoch 6/10\n",
      "48/48 [==============================] - 0s 146us/step - loss: 0.6997 - mean_pred: 0.5095 - val_loss: 0.6992 - val_mean_pred: 0.5086\n",
      "Epoch 7/10\n",
      "48/48 [==============================] - 0s 124us/step - loss: 0.6990 - mean_pred: 0.5086 - val_loss: 0.6985 - val_mean_pred: 0.5077\n",
      "Epoch 8/10\n",
      "48/48 [==============================] - 0s 145us/step - loss: 0.6984 - mean_pred: 0.5077 - val_loss: 0.6979 - val_mean_pred: 0.5068\n",
      "Epoch 9/10\n",
      "48/48 [==============================] - 0s 125us/step - loss: 0.6978 - mean_pred: 0.5068 - val_loss: 0.6973 - val_mean_pred: 0.5060\n",
      "Epoch 10/10\n",
      "48/48 [==============================] - 0s 166us/step - loss: 0.6972 - mean_pred: 0.5060 - val_loss: 0.6967 - val_mean_pred: 0.5051\n"
     ]
    },
    {
     "data": {
      "text/plain": [
       "<keras.callbacks.History at 0x1c7d677f6c8>"
      ]
     },
     "execution_count": 171,
     "metadata": {},
     "output_type": "execute_result"
    }
   ],
   "source": [
    "model.fit(x_train,\n",
    "          y_train,\n",
    "          batch_size=24, \n",
    "          epochs = 10,\n",
    "          callbacks= None,\n",
    "          validation_split = 0.2,\n",
    "          shuffle= True,\n",
    "         )"
   ]
  },
  {
   "cell_type": "code",
   "execution_count": null,
   "metadata": {},
   "outputs": [],
   "source": [
    "model = tf.keras.models.Sequential([\n",
    "    tf.keras.layers.InputLayer(input_shape=(60)),\n",
    "    tf.keras.layers.Dense(60, activation = 'relu'),\n",
    "    tf.keras.layers.Dense(1,activation='softmax')\n",
    "])\n",
    "model.summary()\n"
   ]
  }
 ],
 "metadata": {
  "kernelspec": {
   "display_name": "Python 3",
   "language": "python",
   "name": "python3"
  },
  "language_info": {
   "codemirror_mode": {
    "name": "ipython",
    "version": 3
   },
   "file_extension": ".py",
   "mimetype": "text/x-python",
   "name": "python",
   "nbconvert_exporter": "python",
   "pygments_lexer": "ipython3",
   "version": "3.7.5"
  }
 },
 "nbformat": 4,
 "nbformat_minor": 2
}
