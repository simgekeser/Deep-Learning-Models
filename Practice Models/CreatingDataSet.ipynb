{
 "cells": [
  {
   "cell_type": "code",
   "execution_count": 103,
   "metadata": {},
   "outputs": [
    {
     "name": "stdout",
     "output_type": "stream",
     "text": [
      "           x         y  z  xrot  yrot  zrot    future  target\n",
      "0   0.433130  0.996076  1     0   -37     0  0.433130       0\n",
      "1   0.923845  2.196076  1     0    -1     0  0.923845       0\n",
      "2   0.433130  0.996076  1     0   -37     0  0.433130       0\n",
      "3   0.923845  2.196076  1     0    -1     0  0.923845       0\n",
      "4   0.433130  0.988228  1     0   -37     0  0.433130       0\n",
      "5   0.923845  2.188228  1     0    -1     0  0.923845       0\n",
      "6   0.433130  0.976456  1     0   -37     0  0.433130       0\n",
      "7   0.923845  2.176456  1     0    -1     0  0.923845       0\n",
      "8   0.433130  0.960760  1     0   -37     0  0.433130       0\n",
      "9   0.923845  2.160760  1     0    -1     0  0.923845       0\n",
      "10  0.433130  0.941140  1     0   -37     0  0.433130       0\n",
      "11  0.923845  2.141140  1     0    -1     0  0.923845       0\n",
      "12  0.433130  0.917596  1     0   -37     0  0.433130       0\n",
      "13  0.923845  2.117596  1     0    -1     0  0.923845       0\n",
      "14  0.433130  0.917596  1     0   -37     0  0.433130       0\n",
      "15  0.923845  2.117596  1     0    -1     0  0.923845       0\n",
      "16  0.433130  0.890128  1     0   -37     0  0.433130       0\n",
      "17  0.923845  2.090128  1     0    -1     0  1.923845       1\n",
      "18  0.433130  0.858736  1     0   -37     0  0.433130       0\n",
      "19  1.923845  2.058736  1     0    -1     0  0.923845       1\n",
      "20  0.433130  0.823420  1     0   -37     0  0.433130       0\n",
      "21  0.923845  2.023420  1     0    -1     0  0.923845       0\n",
      "22  0.433130  0.784180  1     0   -37     0       NaN       0\n"
     ]
    }
   ],
   "source": [
    "import pandas as pd\n",
    "import tensorflow as tf\n",
    "\n",
    "\n",
    "def classify(current, future):\n",
    "    if float(future) >= float(current) + 0.05 or float(future) <= float(current) - 0.05:\n",
    "        return 1\n",
    "    else:\n",
    "        return 0\n",
    "\n",
    "df = pd.read_csv(\"Blocks/BlockData1.txt\",names=[\"x\",\"y\",\"z\",\"xrot\",\"yrot\",\"zrot\"] )\n",
    "\n",
    "df['future'] = df[f'x'].shift(-2)\n",
    "\n",
    "df['target'] = list(map(classify,df[f'x'], df['future']))\n",
    "\n",
    "print(df.head(23))\n",
    "target=df.pop(\"target\")\n",
    "future=df.pop(\"future\")"
   ]
  },
  {
   "cell_type": "code",
   "execution_count": 91,
   "metadata": {},
   "outputs": [
    {
     "name": "stdout",
     "output_type": "stream",
     "text": [
      "[[  0.4331303   0.996076    1.          0.        -37.          0.       ]\n",
      " [  0.9238452   2.196076    1.          0.         -1.          0.       ]\n",
      " [  0.4331303   0.996076    1.          0.        -37.          0.       ]\n",
      " [  0.9238452   2.196076    1.          0.         -1.          0.       ]\n",
      " [  0.4331303   0.988228    1.          0.        -37.          0.       ]\n",
      " [  0.9238452   2.188228    1.          0.         -1.          0.       ]\n",
      " [  0.4331303   0.976456    1.          0.        -37.          0.       ]\n",
      " [  0.9238452   2.176456    1.          0.         -1.          0.       ]\n",
      " [  0.4331303   0.96076     1.          0.        -37.          0.       ]\n",
      " [  0.9238452   2.16076     1.          0.         -1.          0.       ]\n",
      " [  0.4331303   0.94114     1.          0.        -37.          0.       ]\n",
      " [  0.9238452   2.14114     1.          0.         -1.          0.       ]\n",
      " [  0.4331303   0.917596    1.          0.        -37.          0.       ]\n",
      " [  0.9238452   2.117596    1.          0.         -1.          0.       ]\n",
      " [  0.4331303   0.917596    1.          0.        -37.          0.       ]\n",
      " [  0.9238452   2.117596    1.          0.         -1.          0.       ]\n",
      " [  0.4331303   0.890128    1.          0.        -37.          0.       ]\n",
      " [  0.9238452   2.090128    1.          0.         -1.          0.       ]\n",
      " [  0.4331303   0.858736    1.          0.        -37.          0.       ]\n",
      " [  1.9238452   2.058736    1.          0.         -1.          0.       ]\n",
      " [  0.4331303   0.82342     1.          0.        -37.          0.       ]\n",
      " [  0.9238452   2.02342     1.          0.         -1.          0.       ]\n",
      " [  0.4331303   0.78418     1.          0.        -37.          0.       ]\n",
      " [  0.9238452   1.98418     1.          0.         -1.          0.       ]]\n"
     ]
    }
   ],
   "source": [
    "\n",
    "print(df.values)"
   ]
  },
  {
   "cell_type": "code",
   "execution_count": 104,
   "metadata": {},
   "outputs": [
    {
     "name": "stdout",
     "output_type": "stream",
     "text": [
      "<TensorSliceDataset shapes: ((), ()), types: (tf.float64, tf.float64)>\n"
     ]
    }
   ],
   "source": [
    "dataset = tf.data.Dataset.from_tensor_slices((df.x, future.values))\n",
    "print(dataset)"
   ]
  },
  {
   "cell_type": "code",
   "execution_count": 105,
   "metadata": {},
   "outputs": [
    {
     "data": {
      "text/plain": [
       "<tf.Tensor: id=12656, shape=(24,), dtype=float64, numpy=\n",
       "array([0.996076, 2.196076, 0.996076, 2.196076, 0.988228, 2.188228,\n",
       "       0.976456, 2.176456, 0.96076 , 2.16076 , 0.94114 , 2.14114 ,\n",
       "       0.917596, 2.117596, 0.917596, 2.117596, 0.890128, 2.090128,\n",
       "       0.858736, 2.058736, 0.82342 , 2.02342 , 0.78418 , 1.98418 ])>"
      ]
     },
     "execution_count": 105,
     "metadata": {},
     "output_type": "execute_result"
    }
   ],
   "source": [
    "tf.constant(df['y'])"
   ]
  },
  {
   "cell_type": "code",
   "execution_count": 106,
   "metadata": {},
   "outputs": [
    {
     "name": "stdout",
     "output_type": "stream",
     "text": [
      "<BatchDataset shapes: ((None,), (None,)), types: (tf.float64, tf.float64)>\n"
     ]
    }
   ],
   "source": [
    "train_dataset = dataset.shuffle(len(df)).batch(1)\n",
    "print(train_dataset)"
   ]
  },
  {
   "cell_type": "code",
   "execution_count": 83,
   "metadata": {},
   "outputs": [],
   "source": [
    "def get_compiled_model():\n",
    "  model = tf.keras.Sequential([\n",
    "    tf.keras.layers.Dense(10, activation='relu'),\n",
    "    tf.keras.layers.Dense(10, activation='relu'),\n",
    "    tf.keras.layers.Dense(1, activation='sigmoid')\n",
    "  ])\n",
    "\n",
    "  model.compile(optimizer='adam',\n",
    "                loss='binary_crossentropy',\n",
    "                metrics=['accuracy'])\n",
    "  return model"
   ]
  },
  {
   "cell_type": "code",
   "execution_count": 108,
   "metadata": {},
   "outputs": [
    {
     "name": "stdout",
     "output_type": "stream",
     "text": [
      "WARNING:tensorflow:Layer sequential_7 is casting an input tensor from dtype float64 to the layer's dtype of float32, which is new behavior in TensorFlow 2.  The layer has dtype float32 because it's dtype defaults to floatx.\n",
      "\n",
      "If you intended to run this layer in float32, you can safely ignore this warning. If in doubt, this warning is likely only an issue if you are porting a TensorFlow 1.X model to TensorFlow 2.\n",
      "\n",
      "To change all layers to have dtype float64 by default, call `tf.keras.backend.set_floatx('float64')`. To change just this layer, pass dtype='float64' to the layer constructor. If you are the author of this layer, you can disable autocasting by passing autocast=False to the base Layer constructor.\n",
      "\n",
      "Epoch 1/20\n",
      "24/24 [==============================] - 1s 32ms/step - loss: nan - accuracy: 0.0000e+00\n",
      "Epoch 2/20\n",
      "24/24 [==============================] - 0s 2ms/step - loss: nan - accuracy: 0.0000e+00\n",
      "Epoch 3/20\n",
      "24/24 [==============================] - 0s 2ms/step - loss: nan - accuracy: 0.0000e+00\n",
      "Epoch 4/20\n",
      "24/24 [==============================] - 0s 3ms/step - loss: nan - accuracy: 0.0000e+00\n",
      "Epoch 5/20\n",
      "24/24 [==============================] - 0s 3ms/step - loss: nan - accuracy: 0.0000e+00\n",
      "Epoch 6/20\n",
      "24/24 [==============================] - 0s 3ms/step - loss: nan - accuracy: 0.0000e+00\n",
      "Epoch 7/20\n",
      "24/24 [==============================] - 0s 3ms/step - loss: nan - accuracy: 0.0000e+00\n",
      "Epoch 8/20\n",
      "24/24 [==============================] - 0s 3ms/step - loss: nan - accuracy: 0.0000e+00\n",
      "Epoch 9/20\n",
      "24/24 [==============================] - 0s 3ms/step - loss: nan - accuracy: 0.0000e+00\n",
      "Epoch 10/20\n",
      "24/24 [==============================] - 0s 3ms/step - loss: nan - accuracy: 0.0000e+00\n",
      "Epoch 11/20\n",
      "24/24 [==============================] - 0s 3ms/step - loss: nan - accuracy: 0.0000e+00\n",
      "Epoch 12/20\n",
      "24/24 [==============================] - 0s 3ms/step - loss: nan - accuracy: 0.0000e+00\n",
      "Epoch 13/20\n",
      "24/24 [==============================] - 0s 3ms/step - loss: nan - accuracy: 0.0000e+00\n",
      "Epoch 14/20\n",
      "24/24 [==============================] - 0s 3ms/step - loss: nan - accuracy: 0.0000e+00\n",
      "Epoch 15/20\n",
      "24/24 [==============================] - 0s 3ms/step - loss: nan - accuracy: 0.0000e+00\n",
      "Epoch 16/20\n",
      "24/24 [==============================] - 0s 3ms/step - loss: nan - accuracy: 0.0000e+00\n",
      "Epoch 17/20\n",
      "24/24 [==============================] - 0s 3ms/step - loss: nan - accuracy: 0.0000e+00\n",
      "Epoch 18/20\n",
      "24/24 [==============================] - 0s 3ms/step - loss: nan - accuracy: 0.0000e+00\n",
      "Epoch 19/20\n",
      "24/24 [==============================] - 0s 3ms/step - loss: nan - accuracy: 0.0000e+00\n",
      "Epoch 20/20\n",
      "24/24 [==============================] - 0s 3ms/step - loss: nan - accuracy: 0.0000e+00\n"
     ]
    },
    {
     "data": {
      "text/plain": [
       "<tensorflow.python.keras.callbacks.History at 0x29604e30f08>"
      ]
     },
     "execution_count": 108,
     "metadata": {},
     "output_type": "execute_result"
    }
   ],
   "source": [
    "model = get_compiled_model()\n",
    "model.fit(train_dataset, epochs=20)"
   ]
  },
  {
   "cell_type": "code",
   "execution_count": null,
   "metadata": {},
   "outputs": [],
   "source": []
  }
 ],
 "metadata": {
  "kernelspec": {
   "display_name": "Python 3",
   "language": "python",
   "name": "python3"
  },
  "language_info": {
   "codemirror_mode": {
    "name": "ipython",
    "version": 3
   },
   "file_extension": ".py",
   "mimetype": "text/x-python",
   "name": "python",
   "nbconvert_exporter": "python",
   "pygments_lexer": "ipython3",
   "version": "3.7.5"
  }
 },
 "nbformat": 4,
 "nbformat_minor": 2
}
